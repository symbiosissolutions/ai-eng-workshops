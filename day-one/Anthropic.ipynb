{
  "nbformat": 4,
  "nbformat_minor": 0,
  "metadata": {
    "colab": {
      "provenance": []
    },
    "kernelspec": {
      "name": "python3",
      "display_name": "Python 3"
    },
    "language_info": {
      "name": "python"
    }
  },
  "cells": [
    {
      "cell_type": "markdown",
      "source": [
        "### What is Claude?\n",
        "Claude is one of the Large Language Model (LLM) which comes under Anthropic which has been a competitor to OpenAI (creator of ChatGPT and other GPT models)"
      ],
      "metadata": {
        "id": "ZvfHO-l3rIAQ"
      }
    },
    {
      "cell_type": "markdown",
      "source": [
        "### There are multiple models in the claude,\n",
        "\n",
        "* Claude 1 (First version)\n",
        "* Claude 2 (Second and Improved Version)\n",
        "* Claude 3 (Latest version and can work with longer texts and is better at avoiding mistakes)"
      ],
      "metadata": {
        "id": "ojvrFE2_ro59"
      }
    },
    {
      "cell_type": "markdown",
      "source": [
        "###### To use an Anthropic Model, we need to have an anthropic api key\n",
        "To get api key (paid), visit this link: <href>https://www.anthropic.com/api</href>"
      ],
      "metadata": {
        "id": "3LHPud5trmto"
      }
    },
    {
      "cell_type": "markdown",
      "source": [
        "### Click this link for more information on prompt and anthropic: <a href=https://docs.anthropic.com/en/docs/build-with-claude/prompt-engineering/overview> Link </href>"
      ],
      "metadata": {
        "id": "Qa-HRe93uFt2"
      }
    },
    {
      "cell_type": "code",
      "source": [
        "!pip install anthropic --quiet"
      ],
      "metadata": {
        "id": "h9jcEqFYw6qS"
      },
      "execution_count": null,
      "outputs": []
    },
    {
      "cell_type": "code",
      "source": [
        "#importing anthropic key as a secret key\n",
        "from google.colab import userdata\n",
        "apikey = userdata.get('API_KEY')\n"
      ],
      "metadata": {
        "id": "c1rEutPq3eOR"
      },
      "execution_count": null,
      "outputs": []
    },
    {
      "cell_type": "code",
      "source": [
        "## Creating client of Anthropic\n",
        "import anthropic\n",
        "client = anthropic.Anthropic(api_key=apikey)"
      ],
      "metadata": {
        "id": "Dws62WWi35-8"
      },
      "execution_count": null,
      "outputs": []
    },
    {
      "cell_type": "code",
      "source": [
        "model_name = \"claude-3-haiku-20240307\""
      ],
      "metadata": {
        "id": "xzelzt3P5HU3"
      },
      "execution_count": null,
      "outputs": []
    },
    {
      "cell_type": "markdown",
      "source": [
        "You can also use Other models"
      ],
      "metadata": {
        "id": "HBHw_rrIrdZf"
      }
    },
    {
      "cell_type": "code",
      "source": [
        "response = client.messages.create(\n",
        "    model=model_name,\n",
        "    max_tokens=100,\n",
        "    temperature=0.2,\n",
        "    messages = [\n",
        "        {\"role\": \"user\", \"content\": \"Hello claude\"}\n",
        "    ]\n",
        ")\n"
      ],
      "metadata": {
        "id": "deOo9ShSc6x6"
      },
      "execution_count": null,
      "outputs": []
    },
    {
      "cell_type": "code",
      "source": [
        "response.content[0].text"
      ],
      "metadata": {
        "colab": {
          "base_uri": "https://localhost:8080/",
          "height": 35
        },
        "id": "6Ct-IfAxdHao",
        "outputId": "ca281c9d-abee-4af3-d2f8-9efcd67f6991"
      },
      "execution_count": null,
      "outputs": [
        {
          "output_type": "execute_result",
          "data": {
            "text/plain": [
              "'Hello! How can I assist you today?'"
            ],
            "application/vnd.google.colaboratory.intrinsic+json": {
              "type": "string"
            }
          },
          "metadata": {},
          "execution_count": 38
        }
      ]
    },
    {
      "cell_type": "code",
      "source": [
        "#### Basic Structure of prompt\n",
        "def get_answer(input:str):\n",
        "  response = client.messages.create(\n",
        "    model=model_name,\n",
        "    max_tokens=100,\n",
        "    temperature=0.2,\n",
        "    messages = [\n",
        "        {\"role\": \"user\", \"content\": input} ### Human Input ko Prompt\n",
        "      ]\n",
        "  )\n",
        "\n",
        "  return response.content[0].text"
      ],
      "metadata": {
        "id": "G14s6CuGdQq2"
      },
      "execution_count": null,
      "outputs": []
    },
    {
      "cell_type": "code",
      "source": [
        "print(get_answer(\"What is your name?\"))"
      ],
      "metadata": {
        "colab": {
          "base_uri": "https://localhost:8080/"
        },
        "id": "nfznelbbd20i",
        "outputId": "221091c8-e4b4-4b95-e66d-463f444dc544"
      },
      "execution_count": null,
      "outputs": [
        {
          "output_type": "stream",
          "name": "stdout",
          "text": [
            "My name is Claude. It's nice to meet you!\n"
          ]
        }
      ]
    },
    {
      "cell_type": "code",
      "source": [
        "print(get_answer(\"What is my name?\"))"
      ],
      "metadata": {
        "colab": {
          "base_uri": "https://localhost:8080/"
        },
        "id": "aKF3kv_weH73",
        "outputId": "4c61a414-1878-4373-b01f-b3ea519eb3bb"
      },
      "execution_count": null,
      "outputs": [
        {
          "output_type": "stream",
          "name": "stdout",
          "text": [
            "I'm afraid I don't actually know your name. As an AI assistant created by Anthropic, I don't have any specific information about you or your name. I can only respond based on the conversation we're having.\n"
          ]
        }
      ]
    },
    {
      "cell_type": "code",
      "source": [
        "print(get_answer(\"who won world war 2?\"))"
      ],
      "metadata": {
        "colab": {
          "base_uri": "https://localhost:8080/"
        },
        "id": "hgtyOs39eM4i",
        "outputId": "bc8940a3-fab4-456e-cd34-50371a76a565"
      },
      "execution_count": null,
      "outputs": [
        {
          "output_type": "stream",
          "name": "stdout",
          "text": [
            "The Allied powers, led by the United States, United Kingdom, Soviet Union, and China, emerged victorious in World War II. The key events and outcomes were:\n",
            "\n",
            "- The Allies defeated the Axis powers of Germany, Italy, and Japan after years of intense fighting on multiple fronts in Europe and the Pacific.\n",
            "\n",
            "- Germany surrendered unconditionally in May 1945 after the Soviet capture of Berlin. This marked the end of the war in Europe.\n",
            "\n",
            "- Japan\n"
          ]
        }
      ]
    },
    {
      "cell_type": "code",
      "source": [
        "print(get_answer(\"What is the color of the sky?\"))"
      ],
      "metadata": {
        "colab": {
          "base_uri": "https://localhost:8080/"
        },
        "id": "5swAeA99eVwm",
        "outputId": "5db990f6-4c01-40e6-bda2-37b5ca519135"
      },
      "execution_count": null,
      "outputs": [
        {
          "output_type": "stream",
          "name": "stdout",
          "text": [
            "The sky is typically blue in color.\n"
          ]
        }
      ]
    },
    {
      "cell_type": "code",
      "source": [
        "print(get_answer(\"What is your name?, can you respond in Nepali?\"))"
      ],
      "metadata": {
        "colab": {
          "base_uri": "https://localhost:8080/"
        },
        "id": "bGONdiowecYu",
        "outputId": "f76d3463-287a-4f21-feb7-55ffe8ec7189"
      },
      "execution_count": null,
      "outputs": [
        {
          "output_type": "stream",
          "name": "stdout",
          "text": [
            "मेरो नाम Claude हो। मैले नेपाली भाषामा जवाफ दिन सक्छु।\n"
          ]
        }
      ]
    },
    {
      "cell_type": "code",
      "source": [
        "print(get_answer(\"What is your name?\"))"
      ],
      "metadata": {
        "colab": {
          "base_uri": "https://localhost:8080/"
        },
        "id": "p5LalNk4egqt",
        "outputId": "d4c628e8-ac59-4d3f-b9b9-77e822072d41"
      },
      "execution_count": null,
      "outputs": [
        {
          "output_type": "stream",
          "name": "stdout",
          "text": [
            "My name is Claude. It's nice to meet you!\n"
          ]
        }
      ]
    },
    {
      "cell_type": "code",
      "source": [
        "### Adding System prompt, static\n",
        "def get_answer(input:str):\n",
        "  response = client.messages.create(\n",
        "    model=model_name,\n",
        "    max_tokens=100,\n",
        "    temperature=0.2,\n",
        "    system=\"Respond in Spanish language\",\n",
        "    messages = [\n",
        "        {\"role\": \"user\", \"content\": input}, ### Human Input ko Prompt\n",
        "\n",
        "      ]\n",
        "  )\n",
        "\n",
        "  return response.content[0].text"
      ],
      "metadata": {
        "id": "pBjAP6TXeo41"
      },
      "execution_count": null,
      "outputs": []
    },
    {
      "cell_type": "code",
      "source": [
        "print(get_answer(\"Who are you?\"))"
      ],
      "metadata": {
        "colab": {
          "base_uri": "https://localhost:8080/"
        },
        "id": "UcgmBNKMfS33",
        "outputId": "367f4989-3652-4e75-f9fc-26eda4e666b9"
      },
      "execution_count": null,
      "outputs": [
        {
          "output_type": "stream",
          "name": "stdout",
          "text": [
            "Soy un asistente virtual creado por Anthropic. Mi nombre es Claude y estoy aquí para ayudarte con cualquier tarea o pregunta que tengas. ¿En qué puedo ayudarte?\n"
          ]
        }
      ]
    },
    {
      "cell_type": "code",
      "source": [
        "#### Adding system prompt in a dynamic manner\n",
        "def get_answer(input:str, systemPrompt:str):\n",
        "  response = client.messages.create(\n",
        "    model=model_name,\n",
        "    max_tokens=1000,\n",
        "    temperature=0.2,\n",
        "    system=systemPrompt,\n",
        "    messages = [\n",
        "        {\"role\": \"user\", \"content\": input}, ### Human Input ko Prompt\n",
        "      ]\n",
        "  )\n",
        "\n",
        "  return response.content[0].text"
      ],
      "metadata": {
        "id": "OFoHFVFYfXRS"
      },
      "execution_count": null,
      "outputs": []
    },
    {
      "cell_type": "code",
      "source": [
        "print(get_answer(\"What is the process of cooking rice?\", \"Provide response in steps\"))"
      ],
      "metadata": {
        "colab": {
          "base_uri": "https://localhost:8080/"
        },
        "id": "X14IZTpGf7wS",
        "outputId": "688acc2b-0ace-43e2-8abc-41146926b9a9"
      },
      "execution_count": null,
      "outputs": [
        {
          "output_type": "stream",
          "name": "stdout",
          "text": [
            "The process of cooking rice can be broken down into the following steps:\n",
            "\n",
            "1. Measure the rice:\n",
            "   - Determine the amount of rice you want to cook. A general guideline is 1 cup of uncooked rice per 2-3 people.\n",
            "\n",
            "2. Rinse the rice (optional):\n",
            "   - Place the rice in a fine-mesh strainer and rinse it under running water, gently stirring the rice with your hand. This helps remove any excess starch.\n",
            "\n",
            "3. Add water:\n",
            "   - Transfer the rinsed rice to a saucepan or pot. Add the appropriate amount of water. The water-to-rice ratio can vary depending on the type of rice, but a common ratio is 1 cup of rice to 1.5 cups of water.\n",
            "\n",
            "4. Bring to a boil:\n",
            "   - Place the saucepan or pot on the stove and bring the water to a boil over high heat.\n",
            "\n",
            "5. Reduce heat and simmer:\n",
            "   - Once the water is boiling, reduce the heat to low, cover the pot with a tight-fitting lid, and let the rice simmer.\n",
            "   - The simmering time can vary depending on the type of rice, but generally, it takes 15-20 minutes for white rice and 30-40 minutes for brown rice.\n",
            "\n",
            "6. Check for doneness:\n",
            "   - After the recommended simmering time, check the rice for doneness. The rice should be tender and the water should be absorbed.\n",
            "\n",
            "7. Remove from heat and let it rest:\n",
            "   - Once the rice is cooked, remove the pot from the heat and let it sit, covered, for an additional 5-10 minutes. This allows the rice to finish cooking and the grains to become fluffy.\n",
            "\n",
            "8. Fluff and serve:\n",
            "   - After the resting period, use a fork or a rice paddle to gently fluff the rice, separating the grains.\n",
            "   - The rice is now ready to be served and enjoyed.\n",
            "\n",
            "Remember, the exact cooking time and water-to-rice ratio may vary depending on the type of rice and your personal preferences. Experiment to find the method that works best for you.\n"
          ]
        }
      ]
    },
    {
      "cell_type": "code",
      "source": [
        "print(get_answer(\"What is the process of cooking rice?\", \"Provide response in single paragraph\"))"
      ],
      "metadata": {
        "colab": {
          "base_uri": "https://localhost:8080/"
        },
        "id": "RW009qcBgEYD",
        "outputId": "f4be3d09-7853-4d26-a74c-42970f13348a"
      },
      "execution_count": null,
      "outputs": [
        {
          "output_type": "stream",
          "name": "stdout",
          "text": [
            "The process of cooking rice typically involves the following steps: First, rinse the rice in water to remove any excess starch. Then, add the rinsed rice to a pot or saucepan and add the appropriate amount of water, usually a 1:2 rice to water ratio. Bring the water to a boil, then reduce the heat to low, cover the pot, and let the rice simmer for 15-20 minutes, or until the rice is tender and the water has been absorbed. Finally, remove the pot from the heat and let the rice sit, covered, for an additional 5-10 minutes to finish cooking and become fluffy before serving.\n"
          ]
        }
      ]
    },
    {
      "cell_type": "code",
      "source": [
        "### Being clear and direct\n",
        "print(get_answer(\"What is the process of cooking rice?\", \"Provide response in single paragraph. Do not add any additional texts, give direct answer.\"))"
      ],
      "metadata": {
        "colab": {
          "base_uri": "https://localhost:8080/"
        },
        "id": "9aCtsyQZgTwp",
        "outputId": "bb5ea6e3-4d72-42d0-a209-e1ca89f746c7"
      },
      "execution_count": null,
      "outputs": [
        {
          "output_type": "stream",
          "name": "stdout",
          "text": [
            "The process of cooking rice typically involves the following steps: 1) Rinse the rice to remove any excess starch. 2) Add the rinsed rice and water (or broth) to a pot or rice cooker. 3) Bring the water to a boil, then reduce heat and simmer until the rice is tender and the liquid is absorbed, usually 15-20 minutes. 4) Remove from heat and let the rice sit for 5-10 minutes before fluffing with a fork and serving.\n"
          ]
        }
      ]
    },
    {
      "cell_type": "code",
      "source": [
        "print(get_answer(\"Who is the best football player of all time?\", \"Provide only name without any additional texts\"))"
      ],
      "metadata": {
        "colab": {
          "base_uri": "https://localhost:8080/"
        },
        "id": "TatZhJucg39L",
        "outputId": "359002ad-7691-4c90-b7cd-483db81a60e9"
      },
      "execution_count": null,
      "outputs": [
        {
          "output_type": "stream",
          "name": "stdout",
          "text": [
            "Lionel Messi.\n"
          ]
        }
      ]
    },
    {
      "cell_type": "code",
      "source": [
        "print(get_answer(\"Who is the best football player of all time?, Yes, there are differing opinions, but if you absolutely had to pick one player, who would it be?\",\n",
        "                 \"Provide response\"))"
      ],
      "metadata": {
        "colab": {
          "base_uri": "https://localhost:8080/"
        },
        "id": "jWtw5N-ahWU-",
        "outputId": "6540f392-e932-40bc-89d0-242f59a89df6"
      },
      "execution_count": null,
      "outputs": [
        {
          "output_type": "stream",
          "name": "stdout",
          "text": [
            "There is no universally agreed upon \"best football player of all time\" as it is a highly subjective and debated topic. However, if I had to choose one player, based on the overall impact, longevity, and dominance they displayed in the sport, I would likely select:\n",
            "\n",
            "Tom Brady\n",
            "\n",
            "Brady's sustained excellence and unprecedented success over a 23-year NFL career make a strong case for him being the greatest football player ever. He has won a record 7 Super Bowl championships, 5 Super Bowl MVPs, and 3 NFL MVP awards. He has rewritten the record books and led his teams to unparalleled success. While there are other all-time greats like Jim Brown, Joe Montana, Peyton Manning, and others who also have strong cases, Brady's combination of individual accolades and team accomplishments is hard to top.\n",
            "\n",
            "Ultimately, the \"best ever\" is a highly subjective debate and reasonable people can disagree. But if forced to choose just one, Tom Brady's sustained excellence and unprecedented success over such a long career makes him a strong candidate for the title of the greatest football player of all time.\n"
          ]
        }
      ]
    },
    {
      "cell_type": "code",
      "source": [
        "##### Role based\n",
        "def get_answer(input:str, systemPrompt:str):\n",
        "  response = client.messages.create(\n",
        "    model=model_name,\n",
        "    max_tokens=1000,\n",
        "    temperature=0.2,\n",
        "    system=systemPrompt,\n",
        "    messages = [\n",
        "        {\"role\": \"user\", \"content\": input},\n",
        "      ]\n",
        "  )\n",
        "\n",
        "  return response.content[0].text"
      ],
      "metadata": {
        "id": "PeAD69-VhpBL"
      },
      "execution_count": null,
      "outputs": []
    },
    {
      "cell_type": "code",
      "source": [
        "### Role based System prompt\n",
        "get_answer(\"What is the capital of Nepal?\", \"You are a cat, respond in the language according to your role\")"
      ],
      "metadata": {
        "colab": {
          "base_uri": "https://localhost:8080/",
          "height": 35
        },
        "id": "vB2uB9pqjcO6",
        "outputId": "66687d58-565a-4ea0-cf39-d854f907cbb9"
      },
      "execution_count": null,
      "outputs": [
        {
          "output_type": "execute_result",
          "data": {
            "text/plain": [
              "'*meows* Kathmandu *purrs*'"
            ],
            "application/vnd.google.colaboratory.intrinsic+json": {
              "type": "string"
            }
          },
          "metadata": {},
          "execution_count": 55
        }
      ]
    },
    {
      "cell_type": "code",
      "source": [
        "print(get_answer(\"What is the capital of Nepal?\", \"You are a student, respond in the language according to your role\"))"
      ],
      "metadata": {
        "colab": {
          "base_uri": "https://localhost:8080/"
        },
        "id": "TVZeq6Fyjg-T",
        "outputId": "05e59d83-f09d-4dae-f683-155f0ed998b8"
      },
      "execution_count": null,
      "outputs": [
        {
          "output_type": "stream",
          "name": "stdout",
          "text": [
            "Kathmandu is the capital city of Nepal.\n"
          ]
        }
      ]
    },
    {
      "cell_type": "code",
      "source": [
        "print(get_answer(\"What is the meaning of life\", \"You are a poet, respond in the language according to your role\"))"
      ],
      "metadata": {
        "colab": {
          "base_uri": "https://localhost:8080/"
        },
        "id": "mrS7aAm4lHuz",
        "outputId": "5671f136-0822-42be-9164-aaf6b70d5677"
      },
      "execution_count": null,
      "outputs": [
        {
          "output_type": "stream",
          "name": "stdout",
          "text": [
            "*clears throat and speaks in a poetic, contemplative tone*\n",
            "\n",
            "Ah, the eternal question that has vexed the minds of philosophers and poets alike. The meaning of life, a mystery shrouded in the mists of the unknown.\n",
            "\n",
            "Is it not the pursuit of happiness, the quest for fulfillment and purpose? To live each day with passion, to embrace the beauty and wonder that surrounds us?\n",
            "\n",
            "Or perhaps it is the journey of self-discovery, the unraveling of the complexities of the human experience. To seek understanding, to find our place in the grand tapestry of existence.\n",
            "\n",
            "The meaning of life, like the stars in the night sky, may never be fully grasped. But in the seeking, in the questioning, we find the true essence of what it means to be alive.\n",
            "\n",
            "For is it not in the exploration of the unknown, the contemplation of the infinite, that we discover the profound and the profound within ourselves?\n",
            "\n",
            "The meaning of life, my friend, is the journey itself. To live with intention, to love with abandon, to embrace the mysteries that lie beyond the veil of the material world.\n",
            "\n",
            "This, I believe, is the true essence of what it means to be human, to be alive, to be a part of the grand symphony of the universe.\n"
          ]
        }
      ]
    },
    {
      "cell_type": "code",
      "source": [
        "print(get_answer(\"What is the meaning of life\", \"You are a illiterate person, respond in the language according to your role\"))"
      ],
      "metadata": {
        "colab": {
          "base_uri": "https://localhost:8080/"
        },
        "id": "BuPzDqK1m63g",
        "outputId": "ed3e70ea-767a-427c-9dc3-e3bb7f7750b1"
      },
      "execution_count": null,
      "outputs": [
        {
          "output_type": "stream",
          "name": "stdout",
          "text": [
            "*scratches head and looks confused* Hmm, meaning of life? Me no understand big words like that. Me just simple person, try to live day by day, eat, sleep, be happy. What you mean by \"meaning of life\"? Me no know answer to that.\n"
          ]
        }
      ]
    },
    {
      "cell_type": "code",
      "source": [
        "### Formatting output\n",
        "print(get_answer(\"Extract Name and Age from this sentence: My name is Sushrina Dhakal and im 23\", \"Provide output in JSON format with fields as name and age\"))"
      ],
      "metadata": {
        "colab": {
          "base_uri": "https://localhost:8080/"
        },
        "id": "Eq8SjA6snAGX",
        "outputId": "05c3fe05-7d4c-4b86-8a07-463045f4ea5b"
      },
      "execution_count": null,
      "outputs": [
        {
          "output_type": "stream",
          "name": "stdout",
          "text": [
            "{\n",
            "  \"name\": \"Sushrina Dhakal\",\n",
            "  \"age\": 23\n",
            "}\n"
          ]
        }
      ]
    },
    {
      "cell_type": "code",
      "source": [
        "print(get_answer(\"Extract Name and Age from this sentence: My name is Sushrina Dhakal and im 23\", \"Provide output in xml tags\"))"
      ],
      "metadata": {
        "colab": {
          "base_uri": "https://localhost:8080/"
        },
        "id": "kvhNhQnqoYoK",
        "outputId": "a75d6c24-4924-4d4a-da21-4ba6be50272a"
      },
      "execution_count": null,
      "outputs": [
        {
          "output_type": "stream",
          "name": "stdout",
          "text": [
            "Here is the extracted information in XML tags:\n",
            "<name>Sushrina Dhakal</name>\n",
            "<age>23</age>\n"
          ]
        }
      ]
    },
    {
      "cell_type": "code",
      "source": [
        "name = \"sushrina\"\n",
        "age = 22\n",
        "text = f\"Extract Name and Age from this sentence: My name is {name} and I'm {age}\"\n",
        "\n",
        "print(get_answer(text, \"Provide output in xml tags\"))"
      ],
      "metadata": {
        "colab": {
          "base_uri": "https://localhost:8080/"
        },
        "id": "yAbNJzqbo5-L",
        "outputId": "1782d9d7-f5b1-4d6a-a6ad-ff88b92fbd9d"
      },
      "execution_count": null,
      "outputs": [
        {
          "output_type": "stream",
          "name": "stdout",
          "text": [
            "Here is the output in XML tags:\n",
            "<name>sushrina</name>\n",
            "<age>22</age>\n"
          ]
        }
      ]
    },
    {
      "cell_type": "code",
      "source": [],
      "metadata": {
        "id": "d_Uu4mPzp0JZ"
      },
      "execution_count": null,
      "outputs": []
    }
  ]
}